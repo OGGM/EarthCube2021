{
 "cells": [
  {
   "cell_type": "markdown",
   "metadata": {},
   "source": [
    "# OGGM-Edu - Jupyter notebooks to learn and teach about glaciers"
   ]
  },
  {
   "cell_type": "markdown",
   "metadata": {},
   "source": [
    "## Authors\n",
    "\n",
    "- Author1 = {\"name\": \"Fabien Maussion\", \"affiliation\": \"University of Innsbruck\", \"email\": \"fabien.maussion@uibk.ac.at\", \"orcid\": \"http://orcid.org/0000-0002-3211-506X\"}\n",
    "- Author2 = {\"name\": \"\", \"\": \"\", \"email\": \"\", \"orcid\": \"\"}\n",
    "- Author3 = ..."
   ]
  },
  {
   "cell_type": "markdown",
   "metadata": {
    "toc": true
   },
   "source": [
    "<h1>Table of Contents<span class=\"tocSkip\"></span></h1>\n",
    "<div class=\"toc\"><ul class=\"toc-item\"><li><span><a href=\"#OGGM-Edu---Jupyter-notebooks-to-learn-and-teach-about-glaciers\" data-toc-modified-id=\"OGGM-Edu---Jupyter-notebooks-to-learn-and-teach-about-glaciers-1\"><span class=\"toc-item-num\">1&nbsp;&nbsp;</span>OGGM-Edu - Jupyter notebooks to learn and teach about glaciers</a></span><ul class=\"toc-item\"><li><span><a href=\"#Authors\" data-toc-modified-id=\"Authors-1.1\"><span class=\"toc-item-num\">1.1&nbsp;&nbsp;</span>Authors</a></span></li><li><span><a href=\"#Purpose\" data-toc-modified-id=\"Purpose-1.2\"><span class=\"toc-item-num\">1.2&nbsp;&nbsp;</span>Purpose</a></span></li><li><span><a href=\"#Technical-contributions\" data-toc-modified-id=\"Technical-contributions-1.3\"><span class=\"toc-item-num\">1.3&nbsp;&nbsp;</span>Technical contributions</a></span></li><li><span><a href=\"#Methodology\" data-toc-modified-id=\"Methodology-1.4\"><span class=\"toc-item-num\">1.4&nbsp;&nbsp;</span>Methodology</a></span></li><li><span><a href=\"#Results\" data-toc-modified-id=\"Results-1.5\"><span class=\"toc-item-num\">1.5&nbsp;&nbsp;</span>Results</a></span></li><li><span><a href=\"#Funding\" data-toc-modified-id=\"Funding-1.6\"><span class=\"toc-item-num\">1.6&nbsp;&nbsp;</span>Funding</a></span></li><li><span><a href=\"#Keywords\" data-toc-modified-id=\"Keywords-1.7\"><span class=\"toc-item-num\">1.7&nbsp;&nbsp;</span>Keywords</a></span></li><li><span><a href=\"#Citation\" data-toc-modified-id=\"Citation-1.8\"><span class=\"toc-item-num\">1.8&nbsp;&nbsp;</span>Citation</a></span></li><li><span><a href=\"#Suggested-next-steps\" data-toc-modified-id=\"Suggested-next-steps-1.9\"><span class=\"toc-item-num\">1.9&nbsp;&nbsp;</span>Suggested next steps</a></span></li><li><span><a href=\"#Acknowledgements\" data-toc-modified-id=\"Acknowledgements-1.10\"><span class=\"toc-item-num\">1.10&nbsp;&nbsp;</span>Acknowledgements</a></span></li></ul></li><li><span><a href=\"#Setup\" data-toc-modified-id=\"Setup-2\"><span class=\"toc-item-num\">2&nbsp;&nbsp;</span>Setup</a></span><ul class=\"toc-item\"><li><span><a href=\"#Library-import\" data-toc-modified-id=\"Library-import-2.1\"><span class=\"toc-item-num\">2.1&nbsp;&nbsp;</span>Library import</a></span></li></ul></li><li><span><a href=\"#Part-1:-idealized-glacier-experiments\" data-toc-modified-id=\"Part-1:-idealized-glacier-experiments-3\"><span class=\"toc-item-num\">3&nbsp;&nbsp;</span>Part 1: idealized glacier experiments</a></span><ul class=\"toc-item\"><li><span><a href=\"#Glacier-flowlines\" data-toc-modified-id=\"Glacier-flowlines-3.1\"><span class=\"toc-item-num\">3.1&nbsp;&nbsp;</span>Glacier flowlines</a></span></li><li><span><a href=\"#Mass-balance\" data-toc-modified-id=\"Mass-balance-3.2\"><span class=\"toc-item-num\">3.2&nbsp;&nbsp;</span>Mass balance</a></span></li><li><span><a href=\"#Glacier-in-Equilibrium\" data-toc-modified-id=\"Glacier-in-Equilibrium-3.3\"><span class=\"toc-item-num\">3.3&nbsp;&nbsp;</span>Glacier in Equilibrium</a></span></li><li><span><a href=\"#Advancing-Glacier\" data-toc-modified-id=\"Advancing-Glacier-3.4\"><span class=\"toc-item-num\">3.4&nbsp;&nbsp;</span>Advancing Glacier</a></span></li><li><span><a href=\"#Retreating-Glacier\" data-toc-modified-id=\"Retreating-Glacier-3.5\"><span class=\"toc-item-num\">3.5&nbsp;&nbsp;</span>Retreating Glacier</a></span></li></ul></li><li><span><a href=\"#Part-2:-real-world-glacier-experiments\" data-toc-modified-id=\"Part-2:-real-world-glacier-experiments-4\"><span class=\"toc-item-num\">4&nbsp;&nbsp;</span>Part 2: real-world glacier experiments</a></span></li><li><span><a href=\"#References\" data-toc-modified-id=\"References-5\"><span class=\"toc-item-num\">5&nbsp;&nbsp;</span>References</a></span></li></ul></div>"
   ]
  },
  {
   "cell_type": "markdown",
   "metadata": {},
   "source": [
    "## Purpose\n",
    "\n",
    "OGGM-Edu (http://edu.oggm.org) is an educational platform providing instructors with tools that allow the demonstration of the governing principles of glacier behaviour. It offers online interactive apps and Jupyter notebooks that can be run in a browser via MyBinder or JupyterHub. \n",
    "\n",
    "This notebook demonstrates how an open source numerical glacier model ([OGGM](http://oggm.org)) can be used to tackle scientific and socially-relevant research questions in class assignments and student projects. It is built on two complementary numerical experiments: \n",
    "1. the first section uses idealized glaciers (with controlled boundary conditions) to illustrate how climate and topography influence glacier behavior, and\n",
    "2. the second section relies on realistic glaciers to illustrate how downstream freshwater resources will be affected by glacier change in the future. \n",
    "\n",
    "The notebook contains code sections that serve as templates, followed by research questions and suggestions that invite the student to re-run the experiment with updated simulation parameters. This notebook (as well as all other similar notebooks featured on the OGGM-Edu platform) is meant to be adapted by teachers to match the topics of a specific lecture or workshop. Interested readers will find more example notebooks [on OGGM-Edu](https://edu.oggm.org/en/latest/notebooks_index.html).\n",
    "\n",
    "OGGM-Edu's notebooks can help students to overcome barriers posed by numerical modelling and coding, in a fun, question-driven and societally relevant way.\n",
    "\n",
    "\n",
    "## Technical contributions\n",
    "\n",
    "- teach about fundamental concepts in glaciology in a modern, fun and interactive way\n",
    "- a complex numerical model is used and abstracted (simplified) for teaching purposes\n",
    "- open and reproducible: the notebooks are all licensed with BSD3, we use openly available docker environments to run the notebooks\n",
    "\n",
    "\n",
    "## Methodology\n",
    "\n",
    "The notebook relies on a number of standard packages of the scientific python ecosytem: numpy, scipy, xarray, pandas, etc. The main tool used for the modelling of glaciers is the Open Global Glacier Model (OGGM, http://oggm.org, https://docs.oggm.org). We also rely on a small number of helper functions (mostly to hide some of the OGGM internals to the learners) from the oggm-edu python package. For more details about OGGM-Edu, visit https://edu.oggm.org.\n",
    "\n",
    "## Results\n",
    "\n",
    "The main outcome of this example notebook is a template, that can be used in glaciology workshops and classes. Example applications include a three-day workshop in Peru for university students without prior experience in glaciology ([repository](https://github.com/ehultee/CdeC-glaciologia), [more info](https://oggm.org/2019/12/06/OGGM-Edu-AGU/)) or the University of Michigan CLaSP 474 [Ice and Climate notebooks](https://github.com/skachuck/clasp474_w2021).\n",
    "\n",
    "\n",
    "## Funding\n",
    "\n",
    "- Award1 = {\"agency\": \"University of Innsbruck\", \"award_code\": \"Förderkreis 1669 – Wissen schafft Gesell schaft\", \"award_URL\": \"https://www.uibk.ac.at/foerderkreis1669\"}\n",
    "- Award2 = {\"agency\": \"Bundesministerium für Bildung und Forschung - BMBF\", \"award_code\": \"FKZ 01LS1602A\", \"award_URL\": \"https://www.bmbf.de\"}\n",
    "\n",
    "\n",
    "## Keywords\n",
    "\n",
    "keywords=[\"glaciers\", \"climate\", \"education\", \"python\", \"numerical model\"]\n",
    "\n",
    "## Citation\n",
    "\n",
    "Maussion, F., Holmgren, E., Nicholson, L., Ultee, L., Schirmeister, Z., Schmitt, P., Schuster, L.. OGGM-Edu - Jupyter notebooks to learn and teach about glaciers. Jupyter Notebook accessed 07.05.2021 at https://github.com/OGGM/EarthCube2021\n",
    "\n",
    "## Suggested next steps\n",
    "\n",
    "Visit https://edu.oggm.org and try the other notebooks there!\n",
    "\n",
    "## Acknowledgements \n",
    "\n",
    "Thanks to the OGGM and OGGM-Edu developpers, and all the open-source tools used in this notebook. Most notably: numpy, scipy, matplotlib, pandas, geopandas, xarray... Thanks to EarthCube for this opportunity."
   ]
  },
  {
   "cell_type": "markdown",
   "metadata": {},
   "source": [
    "# Setup\n",
    "\n",
    "## Library import"
   ]
  },
  {
   "cell_type": "code",
   "execution_count": null,
   "metadata": {},
   "outputs": [],
   "source": [
    "# import oggm-edu helper package\n",
    "import oggm_edu as edu\n",
    "\n",
    "# Interactive plotting\n",
    "import holoviews as hv\n",
    "hv.extension('bokeh')\n",
    "\n",
    "# import modules, constants and set plotting defaults\n",
    "import matplotlib.pyplot as plt\n",
    "plt.rcParams['figure.figsize'] = (9, 6)  # Default plot size\n",
    "\n",
    "# Scientific packages\n",
    "import numpy as np\n",
    "\n",
    "# Constants\n",
    "from oggm import cfg\n",
    "cfg.initialize_minimal()\n",
    "\n",
    "# OGGM flowline model\n",
    "from oggm.core.flowline import RectangularBedFlowline\n",
    "\n",
    "# OGGM mass-balance model\n",
    "from oggm.core.massbalance import LinearMassBalance\n",
    "\n",
    "# There are several numerical implementations in OGGM core. We use the \"FluxBasedModel\"\n",
    "from oggm.core.flowline import FluxBasedModel as FlowlineModel\n",
    "\n"
   ]
  },
  {
   "cell_type": "markdown",
   "metadata": {},
   "source": [
    "# Part 1: idealized glacier experiments"
   ]
  },
  {
   "cell_type": "markdown",
   "metadata": {},
   "source": [
    "This part of the notebook shows how idealized glacier geometries can be used to explore the influence of a changing climate. For the glacier flow simulation the Open Global Glacier Model (OGGM, http://oggm.org, https://docs.oggm.org) is used.\n",
    "\n",
    "Goals of this part:\n",
    "- learn how to define an idealized flowline glacier\n",
    "- understand the concept of mass balance and in particular what the equilibrium line altitude (ELA) describes\n",
    "- understand the influence of glacier mass balance on the ELA\n",
    "- be able to explain glacier advance and retreat in response to a change in the ELA"
   ]
  },
  {
   "cell_type": "markdown",
   "metadata": {},
   "source": [
    "## Glacier flowlines"
   ]
  },
  {
   "cell_type": "markdown",
   "metadata": {},
   "source": [
    "OGGM is a “flowline model”, which means that the glacier ice flow is assumed to happen along a representative “1.5D” flowline, as in the image below. “1.5D” here is used to emphasize that although glacier ice can flow only in one direction along the flowline, each point of the glacier has a geometrical width. This width means that flowline glaciers are able to match the observed area-elevation distribution of true glaciers, and can parametrize the changes in glacier width with thickness changes.\n",
    "\n",
    "<img src=\"https://docs.oggm.org/en/stable/_images/hef_flowline.jpg\" width=\"60%\">"
   ]
  },
  {
   "cell_type": "markdown",
   "metadata": {},
   "source": [
    "The first step for the experiment is now to define our idealized glacier geometry with:\n",
    "- linear glacier bed heights\n",
    "- widths with a trapezoidal shape at glacier top, starting from larger widths and decreasing until a certain point is reached\n",
    "- below this point constant widths"
   ]
  },
  {
   "cell_type": "code",
   "execution_count": null,
   "metadata": {},
   "outputs": [],
   "source": [
    "# This function could be integrated in OGGM Edu,\n",
    "# I made this to separate the definition of the geometry from the definition of the mass balance,\n",
    "# as it is kind of mixed in the function 'linear_mb_equilibrium' from the oggm_edu package\n",
    "def define_widths_with_trapezoidal_shape_at_top(topw, bottomw, nx, nz, map_dx):  \n",
    "    # accumulation area occupies a fraction NZ of the total glacier extent\n",
    "    acc_width = np.linspace(topw, bottomw, int(nx * nz))\n",
    "\n",
    "    # ablation area occupies a fraction 1 - NZ of the total glacier extent\n",
    "    abl_width = np.tile(bottomw, nx - len(acc_width))\n",
    "\n",
    "    # glacier widths profile\n",
    "    widths = np.hstack([acc_width, abl_width])\n",
    "\n",
    "    return widths"
   ]
  },
  {
   "cell_type": "code",
   "execution_count": null,
   "metadata": {},
   "outputs": [],
   "source": [
    "# define horizontal resolution of the model:\n",
    "# nx: number of grid points\n",
    "# map_dx: grid point spacing in meters\n",
    "nx = 200\n",
    "map_dx = 200\n",
    "\n",
    "# define glacier top and bottom altitudes in meters\n",
    "top = 5000 \n",
    "bottom = 0\n",
    "\n",
    "# create a linear bedrock profile from top to bottom\n",
    "bed_h, surface_h = edu.define_linear_bed(top, bottom, nx)\n",
    "\n",
    "# calculate the distance from the top to the bottom of the glacier in km\n",
    "distance_along_glacier = edu.distance_along_glacier(nx, map_dx)\n",
    "\n",
    "# glacier width at the top of the accumulation area: m\n",
    "ACCW = 1000\n",
    "\n",
    "# glacier width at the equilibrium line altitude: m\n",
    "ELAW = 500\n",
    "\n",
    "# fraction of vertical grid points occupied by accumulation area\n",
    "NZ = 1 / 3\n",
    "\n",
    "# create the widths with a \n",
    "widths = define_widths_with_trapezoidal_shape_at_top(topw=ACCW,\n",
    "                                                     bottomw=ELAW,\n",
    "                                                     nx=nx,\n",
    "                                                     nz=NZ,\n",
    "                                                     map_dx=map_dx)\n",
    "\n",
    "# plot the idealized glacier\n",
    "edu.plot_glacier_3d(distance_along_glacier, bed_h, widths, nx);"
   ]
  },
  {
   "cell_type": "markdown",
   "metadata": {},
   "source": [
    "Now we have defined the principle look of our glacier, the only thing left is now to define the shape of our cross-section. OGGM supports three different shapes rectangular, parabolic and trapezoidal. For our experiment we go with the rectangular one:"
   ]
  },
  {
   "cell_type": "code",
   "execution_count": null,
   "metadata": {},
   "outputs": [],
   "source": [
    "# describe the widths in \"grid points\" for the model, based on grid point spacing map_dx\n",
    "mwidths = np.zeros(nx) + widths / map_dx\n",
    "\n",
    "# define the glacier flowline\n",
    "init_flowline = RectangularBedFlowline(surface_h=surface_h,\n",
    "                                       bed_h=bed_h,\n",
    "                                       widths=mwidths,\n",
    "                                       map_dx=map_dx)"
   ]
  },
  {
   "cell_type": "markdown",
   "metadata": {},
   "source": [
    "## Mass balance"
   ]
  },
  {
   "cell_type": "markdown",
   "metadata": {},
   "source": [
    "The **mass balance** is the result of several processes that either add mass to the glacier (**accumulation**) or remove mass from the glacier (**ablation**). The following glacier graphics illustrate this relationship:\n",
    "\n",
    "- The left graphic represents a theoretical mass accumulation over the whole glacier depicted by the blue ice volume on top of the grey glacier body.\n",
    "\n",
    "- In the graphic in the middle a theoretical mass ablation is marked as red ice volume.\n",
    "\n",
    "- The  graphic on the right shows the resulting mass balance with blue and red arrows in combination with the blue and red volume changes on top of the grey glacier body. In the central part of the glacier where the red line lies directly on the grey glacier body ablation and accumulation canceled each other out.\n",
    "\n",
    "*The following glacier graphics are taken from the [open glacier graphics](http://edu.oggm.org/en/latest/glacier_basics.html) on OGGM-Edu, made by Anne Maussion, [Atelier les Gros yeux](http://atelierlesgrosyeux.com/)*.\n",
    "\n",
    "<img src=\"https://raw.githubusercontent.com/OGGM/glacier-graphics/master/glacier_intro/png/glacier_03.png\" width=\"33%\" align=\"left\">\n",
    "<img src=\"https://raw.githubusercontent.com/OGGM/glacier-graphics/master/glacier_intro/png/glacier_04.png\" width=\"33%\" align=\"left\">\n",
    "<img src=\"https://raw.githubusercontent.com/OGGM/glacier-graphics/master/glacier_intro/png/glacier_05.png\" width=\"33%\" align=\"left\">"
   ]
  },
  {
   "cell_type": "markdown",
   "metadata": {},
   "source": [
    "The rates of accumulation and ablation processes, summed over the glacier and over time, determine the *glacier mass balance*: $\\dot{m}$, the change in total mass of snow and ice,"
   ]
  },
  {
   "cell_type": "markdown",
   "metadata": {},
   "source": [
    "$$\\dot{m} = \\text{accumulation} + \\text{ablation}.$$"
   ]
  },
  {
   "cell_type": "markdown",
   "metadata": {},
   "source": [
    "Since accumulation and ablation generally vary with height, also the glacier mass balance is a function of elevation,"
   ]
  },
  {
   "cell_type": "markdown",
   "metadata": {},
   "source": [
    "$$\\dot{m}(z) = \\text{accumulation}(z) + \\text{ablation}(z).$$"
   ]
  },
  {
   "cell_type": "markdown",
   "metadata": {},
   "source": [
    "Mass is continuously redistributed in a glacier: accumulated mass at the top of the glacier is transported downglacier. The driving force of this *ice flow* is gravity. Thus, the mass balance of a region on a glacier depends not only on the mass exchanges induced by accumulation and ablation, but also on the gravity driven transport of ice from the acccumulation area to the ablation area. The *ice flow* is indicated by the grey arrow in this figure:\n",
    "\n",
    "<img src=\"https://raw.githubusercontent.com/OGGM/glacier-graphics/master/glacier_intro/png/glacier_06.png\" width=\"60%\">"
   ]
  },
  {
   "cell_type": "markdown",
   "metadata": {},
   "source": [
    "The altitude where $\\dot{m}(z) = 0$ is called the *equilibrium line altitude*, short ELA. Hence, the ELA is the altitude where accumulation processes and ablation processes balance each other - in theory. However, in reality the ELA does not exactly exist and can only be approximated."
   ]
  },
  {
   "cell_type": "markdown",
   "metadata": {},
   "source": [
    "<img src=\"https://raw.githubusercontent.com/OGGM/glacier-graphics/master/glacier_intro/png/glacier_07.png\" width=\"60%\">"
   ]
  },
  {
   "cell_type": "markdown",
   "metadata": {},
   "source": [
    "We want to reproduce these processes in an experiment. For this purpose we start with defining a linear mass balance model of the form"
   ]
  },
  {
   "cell_type": "markdown",
   "metadata": {},
   "source": [
    "$$\\dot{m}(z) = (z - ELA) \\frac{d\\dot{m}}{dz},$$"
   ]
  },
  {
   "cell_type": "markdown",
   "metadata": {},
   "source": [
    "with the mass balance gradient $\\frac{d\\dot{m}}{dz}$:"
   ]
  },
  {
   "cell_type": "code",
   "execution_count": null,
   "metadata": {
    "scrolled": true
   },
   "outputs": [],
   "source": [
    "# mass balance gradient with respect to elevation in mm w.e. m^-1 yr^-1\n",
    "mb_grad = 7\n",
    "\n",
    "# equilibrium line altitude: height where the glacier width first hits ELAW\n",
    "ela = bed_h[np.where(widths==ELAW)[0][0]]\n",
    "print('ELA: {:.2f} m'.format(ela))\n",
    "\n",
    "# defining the mass balance model\n",
    "mb_model = LinearMassBalance(ela, grad=mb_grad)"
   ]
  },
  {
   "cell_type": "markdown",
   "metadata": {},
   "source": [
    "Now that we have all the ingredients to run the model, we just have to initialize it:"
   ]
  },
  {
   "cell_type": "code",
   "execution_count": null,
   "metadata": {},
   "outputs": [],
   "source": [
    "# The model requires the initial glacier bed, a mass balance model, and an initial time (the year y0)\n",
    "model = FlowlineModel(init_flowline, mb_model=mb_model, y0=0., min_dt=0, cfl_number=0.01)"
   ]
  },
  {
   "cell_type": "markdown",
   "metadata": {},
   "source": [
    "## Glacier in Equilibrium"
   ]
  },
  {
   "cell_type": "markdown",
   "metadata": {},
   "source": [
    "For a glacier to be in equilibrium, we require the specific mass balance (accumulation + ablation) to be zero averaged over a year on the glacier. But this doesn't mean that the mass-balance is zero everywhere! A very classic situation looks like the image below: positive mass-balance at the top (more accumulation, less ablation) and negative at the tongue (less accumulation, more ablation).\n",
    "\n",
    "<img src=\"https://raw.githubusercontent.com/OGGM/glacier-graphics/master/glacier_intro/png/glacier_05.png\" width=\"60%\">"
   ]
  },
  {
   "cell_type": "markdown",
   "metadata": {},
   "source": [
    "Let's run the model until our test glacier is in equilibrium:"
   ]
  },
  {
   "cell_type": "code",
   "execution_count": null,
   "metadata": {},
   "outputs": [],
   "source": [
    "model.run_until_equilibrium()"
   ]
  },
  {
   "cell_type": "markdown",
   "metadata": {},
   "source": [
    "Now, we use a linear accumulation and ablation function from the oggm-edu package for the calculation of the net mass balance (= glacier mass distribution without considering *ice flow*):"
   ]
  },
  {
   "cell_type": "code",
   "execution_count": null,
   "metadata": {},
   "outputs": [],
   "source": [
    "# get the equilibrium surface height of our test glacier in equilibrium\n",
    "initial = model.fls[0].surface_h\n",
    "\n",
    "# accumulation and ablation balance each other\n",
    "acc, acc_0 = edu.linear_accumulation(mb_grad, ela, initial, bed_h, mwidths)\n",
    "abl, abl_0 = edu.linear_ablation(mb_grad, ela, initial, bed_h, mwidths, acc_0)"
   ]
  },
  {
   "cell_type": "markdown",
   "metadata": {},
   "source": [
    "``acc_0`` and ``abl_0`` are the accumulation and the ablation at the ELA, respectively - by construction, they should be equal:"
   ]
  },
  {
   "cell_type": "code",
   "execution_count": null,
   "metadata": {},
   "outputs": [],
   "source": [
    "print('Mass balance at the ELA: {:.2f} m w.e. yr^-1'.format(float(acc_0 - abl_0)))"
   ]
  },
  {
   "cell_type": "markdown",
   "metadata": {},
   "source": [
    "Now, we can define the glacier surface after accumulation and ablation, respectively."
   ]
  },
  {
   "cell_type": "code",
   "execution_count": null,
   "metadata": {},
   "outputs": [],
   "source": [
    "# accumulation and ablation surfaces\n",
    "acc_sfc = initial + acc\n",
    "abl_sfc = initial + abl"
   ]
  },
  {
   "cell_type": "markdown",
   "metadata": {},
   "source": [
    "The mass balance is then just the sum of accumulation and ablation:"
   ]
  },
  {
   "cell_type": "code",
   "execution_count": null,
   "metadata": {},
   "outputs": [],
   "source": [
    "# net mass balance m w.e yr^-1\n",
    "mb_we = acc + abl"
   ]
  },
  {
   "cell_type": "markdown",
   "metadata": {},
   "source": [
    "Near the terminus ablation may totally remove the ice, hence, we need to correct \"negative\" ice thickness to the glacier bed:"
   ]
  },
  {
   "cell_type": "code",
   "execution_count": null,
   "metadata": {},
   "outputs": [],
   "source": [
    "# mass balance surface corrected to the bed where ice thickness is negative\n",
    "mb_sfc = edu.correct_to_bed(bed_h, initial + mb_we)"
   ]
  },
  {
   "cell_type": "markdown",
   "metadata": {},
   "source": [
    "The next figure shows the glacier surface after applying the net mass balance."
   ]
  },
  {
   "cell_type": "code",
   "execution_count": null,
   "metadata": {},
   "outputs": [],
   "source": [
    "# plot the model glacier\n",
    "fig, ax = plt.subplots(1, 1, figsize=(16, 9))\n",
    "edu.intro_glacier_plot(ax, distance_along_glacier, bed_h, initial, [mb_sfc], ['net mass balance'], ela=[ela], plot_ela=True)"
   ]
  },
  {
   "cell_type": "markdown",
   "metadata": {},
   "source": [
    "Remember: In the graphic we visualised the glacier in equilibrium in red and in black the glacier surface after applying the mass balance after a cycle of accumulation and ablation. After that we did not include ice flow in our simulation.\n",
    "So the glacier is now in an imbalanced state, with more mass above the equilibrium line and less ice in the ablation zone than in the equilibrium state. This imbalance is compensated by a movement of ice from top to bottom, the ice flow. In an undisturbed climate the ice flow together with ablation and accumulation keep the glacier in a steady equilibrium state.\n",
    "\n",
    "Now we have set the scene to model glacier advance and retreat."
   ]
  },
  {
   "cell_type": "markdown",
   "metadata": {},
   "source": [
    "## Advancing Glacier"
   ]
  },
  {
   "cell_type": "markdown",
   "metadata": {},
   "source": [
    "More accumulation and/or less ablation leads to a larger accumulation and a smaller ablation area. Hence, the ELA decreases, as shown in this graphic:\n",
    "\n",
    "<img src=\"https://raw.githubusercontent.com/OGGM/glacier-graphics/master/glacier_intro/png/glacier_08.png\" width=\"60%\">"
   ]
  },
  {
   "cell_type": "markdown",
   "metadata": {},
   "source": [
    "To simulate a glacier advance, we will use the same glacier as before, but move the ELA downglacier:"
   ]
  },
  {
   "cell_type": "code",
   "execution_count": null,
   "metadata": {},
   "outputs": [],
   "source": [
    "# number of vertical grid points the ELA is shifted downglacier\n",
    "downglacier = 10"
   ]
  },
  {
   "cell_type": "code",
   "execution_count": null,
   "metadata": {},
   "outputs": [],
   "source": [
    "# Hey Patrick: can you sidestep the edu.linear_mb_equilibrium-function again? I think we would need it here.\n",
    "#.... calculate the new glacier's equilibrium and the the new ELA"
   ]
  },
  {
   "cell_type": "code",
   "execution_count": null,
   "metadata": {},
   "outputs": [],
   "source": [
    "print(*['{} ELA: {:.2f} m'.format(s, e) for s, e in zip(['Initial', 'Advance'], [ela, ela_adv])], sep='\\n')"
   ]
  },
  {
   "cell_type": "code",
   "execution_count": null,
   "metadata": {},
   "outputs": [],
   "source": [
    "# I am  not sure if the mass balance plot with the grey glacier from the advance and retreat nb adds value.\n",
    "# Maybe if we design it differently? I would go directly to the plot where we see the advanced glacier surface."
   ]
  },
  {
   "cell_type": "code",
   "execution_count": null,
   "metadata": {},
   "outputs": [],
   "source": [
    "# the glacier surface in equilibrium with the decreased ELA\n",
    "advance_s = advance.fls[-1].surface_h"
   ]
  },
  {
   "cell_type": "code",
   "execution_count": null,
   "metadata": {},
   "outputs": [],
   "source": [
    "fig, ax = plt.subplots(1, 1, figsize=(16, 9))\n",
    "edu.intro_glacier_plot(ax, distance_along_glacier, bed_h, initial, [advance_s], ['Advance'], ela=[ela, ela_adv], plot_ela=True)"
   ]
  },
  {
   "cell_type": "markdown",
   "metadata": {},
   "source": [
    "As expected the glacier model with the lower ELA reaches more downward in its equilibrium state than the initial glacier. This is also illustrated in the following graphic:\n",
    "<img src=\"https://raw.githubusercontent.com/OGGM/glacier-graphics/master/glacier_intro/png/glacier_09.png\" width=\"60%\">"
   ]
  },
  {
   "cell_type": "markdown",
   "metadata": {},
   "source": [
    "## Retreating Glacier"
   ]
  },
  {
   "cell_type": "markdown",
   "metadata": {},
   "source": [
    "Maybe continue with 'Retreating' from advance_and_retreat notebook"
   ]
  },
  {
   "cell_type": "markdown",
   "metadata": {},
   "source": [
    "# Part 2: real-world glacier experiments\n",
    "\n",
    "In the previous steps we showed how to use OGGM to answer theoretical questions about glaciers, using idealized experiments. In the following section we will explain how you can use OGGM to explore real glaciers and investigate their role as water resources. \n",
    "\n",
    "You will learn about\n",
    "* How to set up the model and run it on a real world glacer\n",
    "* Running simulations using different climate scenarios \n",
    "* The concept of **peak water** and how to calculate it using the OGGM\n",
    "\n",
    "## Glaciers as water resources"
   ]
  },
  {
   "cell_type": "markdown",
   "metadata": {},
   "source": [
    "First we have to import and set up OGGM along with some other useful packages"
   ]
  },
  {
   "cell_type": "code",
   "execution_count": null,
   "metadata": {},
   "outputs": [],
   "source": [
    "import salem\n",
    "import geoviews as gv\n",
    "import geoviews.tile_sources as gts\n",
    "from oggm import cfg, utils, workflow, tasks, graphics\n",
    "from oggm_edu import read_run_results, compute_climate_statistics\n",
    "from matplotlib import pyplot as plt\n",
    "import seaborn as sns\n",
    "import xarray as xr"
   ]
  },
  {
   "cell_type": "code",
   "execution_count": null,
   "metadata": {},
   "outputs": [],
   "source": [
    "cfg.initialize(logging_level='WARNING')\n",
    "cfg.PATHS['working_dir'] = utils.get_temp_dir(dirname='OGGMEarthCube')"
   ]
  },
  {
   "cell_type": "markdown",
   "metadata": {},
   "source": [
    "### Define the glaciers to play with\n",
    "We are going to start with doing a simuilation of Hintereisferner in Austria. Some other possibilites are:\n",
    "\n",
    "- Shallap Glacier: RGI60-16.02207\n",
    "- Artesonraju: RGI60-16.02444 ([reference glacier](https://cluster.klima.uni-bremen.de/~github/crossval/1.1.2.dev45+g792ae9c/web/RGI60-16.02444.html))\n",
    "- Hintereisferner: RGI60-11.00897 ([reference glacier](https://cluster.klima.uni-bremen.de/~github/crossval/1.1.2.dev45+g792ae9c/web/RGI60-11.00897.html))\n",
    "\n",
    "And virtually any glacier you can find the RGI Id from, e.g. in the [GLIMS viewer](https://www.glims.org/maps/glims)."
   ]
  },
  {
   "cell_type": "code",
   "execution_count": null,
   "metadata": {},
   "outputs": [],
   "source": [
    "# Hintereisferner\n",
    "rgi_id = 'RGI60-11.00897'"
   ]
  },
  {
   "cell_type": "markdown",
   "metadata": {},
   "source": [
    "### Preparing the glacier data\n",
    "\n",
    "This can take up to a few minutes on the first call because the data has to downloaded:"
   ]
  },
  {
   "cell_type": "code",
   "execution_count": null,
   "metadata": {},
   "outputs": [],
   "source": [
    "# We pick the elevation-bands glaciers because they run a bit faster\n",
    "base_url = 'https://cluster.klima.uni-bremen.de/~oggm/gdirs/oggm_v1.4/L3-L5_files/CRU/elev_bands/qc3/pcp2.5/no_match'\n",
    "gdir = workflow.init_glacier_directories([rgi_id], from_prepro_level=5, prepro_border=80, prepro_base_url=base_url)[0]"
   ]
  },
  {
   "cell_type": "markdown",
   "metadata": {},
   "source": [
    "We can now take a first look at our glacier"
   ]
  },
  {
   "cell_type": "code",
   "execution_count": null,
   "metadata": {},
   "outputs": [],
   "source": [
    "sh = salem.transform_geopandas(gdir.read_shapefile('outlines'))\n",
    "(gv.Polygons(sh).opts(fill_color=None) *\n",
    " gts.tile_sources['EsriImagery'] * gts.tile_sources['StamenLabels']).opts(width=800, height=500, active_tools=['pan','wheel_zoom'])"
   ]
  },
  {
   "cell_type": "markdown",
   "metadata": {},
   "source": [
    "*Tip: You can use the mouse to pan and zoom in the map*\n"
   ]
  },
  {
   "cell_type": "markdown",
   "metadata": {},
   "source": [
    "### \"Commitment run\"\n",
    "We are now ready to run our first simulation. This is a so called commitment run, which runs a simulation for 100 years with a constant climate based on the last 11 years."
   ]
  },
  {
   "cell_type": "code",
   "execution_count": null,
   "metadata": {},
   "outputs": [],
   "source": [
    "# file identifier where the model output is saved\n",
    "file_id = '_ct'\n",
    "# We are using the task run_with_hydro to store hydrological outputs along with\n",
    "# the usual glaciological outputs.\n",
    "tasks.run_with_hydro(gdir, run_task=tasks.run_constant_climate, nyears=100, y0=2014, halfsize=5, store_monthly_hydro=True, \n",
    "                     output_filesuffix=file_id);"
   ]
  },
  {
   "cell_type": "markdown",
   "metadata": {},
   "source": [
    "Then we can take a look at the output:"
   ]
  },
  {
   "cell_type": "code",
   "execution_count": null,
   "metadata": {},
   "outputs": [],
   "source": [
    "with xr.open_dataset(gdir.get_filepath('model_diagnostics', filesuffix=file_id)) as ds:\n",
    "    # The last step of hydrological output is NaN (we can't compute it for this year)\n",
    "    ds = ds.isel(time=slice(0, -1)).load()"
   ]
  },
  {
   "cell_type": "markdown",
   "metadata": {},
   "source": [
    "There are plenty of variables in this dataset! We can list them with:"
   ]
  },
  {
   "cell_type": "code",
   "execution_count": null,
   "metadata": {},
   "outputs": [],
   "source": [
    "ds"
   ]
  },
  {
   "cell_type": "markdown",
   "metadata": {},
   "source": [
    "For instance, we can plot the the volume and the length of the glacier"
   ]
  },
  {
   "cell_type": "code",
   "execution_count": null,
   "metadata": {},
   "outputs": [],
   "source": [
    "fig, axs = plt.subplots(nrows=2, figsize=(11, 7), sharex=True)\n",
    "ds.volume_m3.plot(ax=axs[0]);\n",
    "ds.length_m.plot(ax=axs[1]);\n",
    "axs[0].set_xlabel('')\n",
    "axs[0].set_title(f'{rgi_id}');\n",
    "axs[1].set_xlabel('Years');"
   ]
  },
  {
   "cell_type": "markdown",
   "metadata": {},
   "source": [
    "The glacier length and volume decrease during the first ~40 years of the simulation - this is the **glacier retreat** phase. Afterwards, both length and volume oscillate around a more or less constant value indicating that the glacier has **reached equilibrium**.\n",
    "\n",
    "#### Annual runoff\n",
    "We can also take a look at some of the hydrological outputs computed by the OGGM. We start by creating a pandas DataFrame of all \"1D\" (annual) variables:"
   ]
  },
  {
   "cell_type": "code",
   "execution_count": null,
   "metadata": {},
   "outputs": [],
   "source": [
    "sel_vars = [v for v in ds.variables if 'month_2d' not in ds[v].dims]\n",
    "df_annual = ds[sel_vars].to_dataframe()"
   ]
  },
  {
   "cell_type": "markdown",
   "metadata": {},
   "source": [
    "Then we can select the hydrological varialbes and sum them to get the total annual runoff:"
   ]
  },
  {
   "cell_type": "code",
   "execution_count": null,
   "metadata": {},
   "outputs": [],
   "source": [
    "# Select only the runoff variables\n",
    "runoff_vars = ['melt_off_glacier', 'melt_on_glacier', 'liq_prcp_off_glacier', 'liq_prcp_on_glacier']\n",
    "# Convert them to megatonnes (instead of kg)\n",
    "df_runoff = df_annual[runoff_vars] * 1e-9\n",
    "df_runoff.sum(axis=1).plot(); \n",
    "plt.ylabel('Mt');\n",
    "plt.xlabel('Years')\n",
    "plt.title(f'Total annual runoff for {rgi_id}');"
   ]
  },
  {
   "cell_type": "markdown",
   "metadata": {},
   "source": [
    "The hydrological variables are computed on the largest possible area that was covered by glacier ice in the simulation. This is equivalent to the runoff that would be measured at a fixed-gauge station at the glacier terminus.\n",
    "\n",
    "The total annual runoff consists of the following components:\n",
    "- melt off-glacier: snow melt on areas that are now glacier free (i.e. 0 in the year of largest glacier extent, in this example at the start of the simulation)\n",
    "- melt on-glacier: ice + seasonal snow melt on the glacier\n",
    "- liquid precipitaton on- and off-glacier (the latter being zero at the year of largest glacial extent, in this example at start of the simulation)"
   ]
  },
  {
   "cell_type": "code",
   "execution_count": null,
   "metadata": {},
   "outputs": [],
   "source": [
    "f, ax = plt.subplots(figsize=(10, 6));\n",
    "df_runoff.plot.area(ax=ax, color=sns.color_palette(\"rocket\")); plt.xlabel('Years'); plt.ylabel('Runoff (Mt)'); plt.title(rgi_id);"
   ]
  },
  {
   "cell_type": "markdown",
   "metadata": {},
   "source": [
    "Before we continue it is time to introduce the concept of **peak water** of [Matthias Huss](https://vaw.ethz.ch/personen/person-detail.html?persid=96677).\n",
    "\n",
    "Peak water is the point in time when glacier melt water supply reaches its maximum, i.e. when the maximum runoff occurs. After peak water, annual runoff sums from glaciers will be steadily decreasing, which might cause problems with water availability. [Here](https://www.nature.com/articles/s41558-017-0049-x) is a recently published paper of Huss's team on the occurence of peak water for glaciers worldwide.\n",
    "<br>\n",
    "\n",
    "<img src=\"https://media.springernature.com/full/springer-static/image/art%3A10.1038%2Fs41558-017-0049-x/MediaObjects/41558_2017_49_Fig1_HTML.jpg\" width=\"60%\">\n",
    "\n",
    "To get a first glimpse of **peak water** we can compute the annual change of the total runoff: "
   ]
  },
  {
   "cell_type": "code",
   "execution_count": null,
   "metadata": {},
   "outputs": [],
   "source": [
    "df_runoff.sum(axis=1).diff().plot()\n",
    "plt.axhline(y=0, color='k', ls=':')\n",
    "plt.ylabel('Runoff (Mt)')\n",
    "plt.xlabel('Years')\n",
    "plt.title('Annual total runoff change');"
   ]
  },
  {
   "cell_type": "markdown",
   "metadata": {},
   "source": [
    "So the glacier is losing mass in the retreat phase, then the mass is more or less constant in the equilibrium phase. This illustrates well that **glaciers in equilibrium are not net water resources**: in the course of the year they gain as much mass as they release. In this commitment run, Hintereisferner has already passed **peak water**: the total annual runoff is continously decreasing  throughout the period."
   ]
  },
  {
   "cell_type": "markdown",
   "metadata": {},
   "source": [
    "#### Monthly runoff\n",
    "\n",
    "The \"2D\" variables contain the same data but at monthly resolution, with the dimension (time, month). For example, runoff can be computed the \n",
    "same way:\n"
   ]
  },
  {
   "cell_type": "code",
   "execution_count": null,
   "metadata": {},
   "outputs": [],
   "source": [
    "# Select only the runoff variables and convert them to megatonnes (instead of kg)\n",
    "monthly_runoff = ds['melt_off_glacier_monthly'] + ds['melt_on_glacier_monthly'] + ds['liq_prcp_off_glacier_monthly'] + ds['liq_prcp_on_glacier_monthly'] \n",
    "monthly_runoff *= 1e-9\n",
    "monthly_runoff.clip(0).plot(cmap='Blues', cbar_kwargs={'label':'Mt'}); plt.xlabel('Months'); plt.ylabel('Years');"
   ]
  },
  {
   "cell_type": "markdown",
   "metadata": {},
   "source": [
    "But be aware, something is a bit wrong with this: the coordinates are hydrological months - let's make this better:"
   ]
  },
  {
   "cell_type": "code",
   "execution_count": null,
   "metadata": {},
   "outputs": [],
   "source": [
    "# This should work in both hemispheres maybe?\n",
    "ds_roll = ds.roll(month_2d=ds['calendar_month_2d'].data[0]-1, roll_coords=True)\n",
    "ds_roll['month_2d'] = ds_roll['calendar_month_2d']\n",
    "\n",
    "# Select only the runoff variables and convert them to megatonnes (instead of kg)\n",
    "monthly_runoff = ds_roll['melt_off_glacier_monthly'] + ds_roll['melt_on_glacier_monthly'] + ds_roll['liq_prcp_off_glacier_monthly'] + ds_roll['liq_prcp_on_glacier_monthly'] \n",
    "monthly_runoff *= 1e-9\n",
    "monthly_runoff.clip(0).plot(cmap='Blues', cbar_kwargs={'label':'Mt'}); plt.xlabel('Months'); plt.ylabel('Years');"
   ]
  },
  {
   "cell_type": "markdown",
   "metadata": {},
   "source": [
    "As we can see, the runoff is approximately zero during the winter months, while relatively high during the summer months. This implies that the glacier is a source of water in the summer when it releases the water accumulated in the winter.\n",
    "\n",
    "The annual cycle changes as the glacier retreats:"
   ]
  },
  {
   "cell_type": "code",
   "execution_count": null,
   "metadata": {},
   "outputs": [],
   "source": [
    "monthly_runoff.sel(time=[0, 30, 99]).plot(hue='time');\n",
    "plt.title('Annual cycle');\n",
    "plt.xlabel('Month'); \n",
    "plt.ylabel('Runoff (Mt)');"
   ]
  },
  {
   "cell_type": "markdown",
   "metadata": {},
   "source": [
    "Not only does the total runoff during the summer months decrease as the simulation progresses, the month of maximum runoff is also shifted to earlier in the summer."
   ]
  },
  {
   "cell_type": "markdown",
   "metadata": {},
   "source": [
    "### CMIP5 projection runs\n",
    "\n",
    "You have now learned how to simulate and analyse a specific glacier under a constant climate. We will now take this a step further and simulate two different glaciers, located in different climatic regions, forced with CMIP5 climate projections.\n",
    "\n",
    "We begin by initializing the glacier directories:"
   ]
  },
  {
   "cell_type": "code",
   "execution_count": null,
   "metadata": {},
   "outputs": [],
   "source": [
    "# We keep Hintereisferner from earlier, but also add a new glacier\n",
    "rgi_ids = [rgi_id, 'RGI60-15.02420']"
   ]
  },
  {
   "cell_type": "code",
   "execution_count": null,
   "metadata": {},
   "outputs": [],
   "source": [
    "gdirs = workflow.init_glacier_directories(rgi_ids, from_prepro_level=5, prepro_border=80, prepro_base_url=base_url)"
   ]
  },
  {
   "cell_type": "markdown",
   "metadata": {},
   "source": [
    "`gdirs` now contain two glaciers, one in Central Europe and one in the Eastern Himlayas:"
   ]
  },
  {
   "cell_type": "code",
   "execution_count": null,
   "metadata": {},
   "outputs": [],
   "source": [
    "gdirs"
   ]
  },
  {
   "cell_type": "markdown",
   "metadata": {},
   "source": [
    "We can take a quick look at the new glacier:"
   ]
  },
  {
   "cell_type": "code",
   "execution_count": null,
   "metadata": {},
   "outputs": [],
   "source": [
    "sh = salem.transform_geopandas(gdirs[1].read_shapefile('outlines'))\n",
    "(gv.Polygons(sh).opts(fill_color=None) *\n",
    " gts.tile_sources['EsriImagery'] * gts.tile_sources['StamenLabels']).opts(width=800, height=500, active_tools=['pan','wheel_zoom'])"
   ]
  },
  {
   "cell_type": "markdown",
   "metadata": {},
   "source": [
    "#### Climate downscaling\n",
    "Before we run our simulation we have to process the climate data for the glaicer  i.e. downscale it: (This can take some time)"
   ]
  },
  {
   "cell_type": "code",
   "execution_count": null,
   "metadata": {},
   "outputs": [],
   "source": [
    "from oggm.shop import gcm_climate\n",
    "bp = 'https://cluster.klima.uni-bremen.de/~oggm/cmip5-ng/pr/pr_mon_CCSM4_{}_r1i1p1_g025.nc'\n",
    "bt = 'https://cluster.klima.uni-bremen.de/~oggm/cmip5-ng/tas/tas_mon_CCSM4_{}_r1i1p1_g025.nc'\n",
    "for rcp in ['rcp26', 'rcp45', 'rcp60', 'rcp85']:\n",
    "    # Download the files\n",
    "    ft = utils.file_downloader(bt.format(rcp))\n",
    "    fp = utils.file_downloader(bp.format(rcp))\n",
    "    workflow.execute_entity_task(gcm_climate.process_cmip_data, gdirs,\n",
    "                                 # Name file to recognize it later\n",
    "                                 filesuffix='_CCSM4_{}'.format(rcp),  \n",
    "                                 # temperature projections\n",
    "                                 fpath_temp=ft,  \n",
    "                                 # precip projections\n",
    "                                 fpath_precip=fp,  \n",
    "                                 );"
   ]
  },
  {
   "cell_type": "markdown",
   "metadata": {},
   "source": [
    "#### Projection run\n",
    "With the downscaling complete, we can run the forced simulations:"
   ]
  },
  {
   "cell_type": "code",
   "execution_count": null,
   "metadata": {},
   "outputs": [],
   "source": [
    "for rcp in ['rcp26', 'rcp45', 'rcp60', 'rcp85']:\n",
    "    rid = '_CCSM4_{}'.format(rcp)\n",
    "    workflow.execute_entity_task(tasks.run_with_hydro, gdirs,\n",
    "                                 run_task=tasks.run_from_climate_data, ys=2020,\n",
    "                                 # use gcm_data, not climate_historical\n",
    "                                 climate_filename='gcm_data',\n",
    "                                 # use the chosen scenario\n",
    "                                 climate_input_filesuffix=rid,\n",
    "                                 # this is important! Start from 2020 glacier\n",
    "                                 init_model_filesuffix='_historical',\n",
    "                                 # recognize the run for later\n",
    "                                 output_filesuffix=rid,\n",
    "                                 # add monthly diagnostics\n",
    "                                 store_monthly_hydro=True,\n",
    "                                );"
   ]
  },
  {
   "cell_type": "code",
   "execution_count": null,
   "metadata": {},
   "outputs": [],
   "source": [
    "# Create the figure \n",
    "f, ax = plt.subplots(figsize=(18, 7), sharex=True) \n",
    "# Loop over all scenarios\n",
    "for i, rcp in enumerate(['rcp26', 'rcp45', 'rcp60', 'rcp85']):\n",
    "    file_id = f'_CCSM4_{rcp}'\n",
    "    # Open the data, gdirs[0] correspond to Hintereisferner.\n",
    "    with xr.open_dataset(gdirs[0].get_filepath('model_diagnostics',\n",
    "                                           filesuffix=file_id)) as ds:\n",
    "        # Load the data into a dataframe\n",
    "        ds = ds.isel(time=slice(0, -1)).load()\n",
    "\n",
    "    # Select annual variables\n",
    "    sel_vars = [v for v in ds.variables if 'month_2d' not in ds[v].dims]\n",
    "    # And create a dataframe\n",
    "    df_annual = ds[sel_vars].to_dataframe()\n",
    "\n",
    "    # Select the variables relevant for runoff.\n",
    "    runoff_vars = ['melt_off_glacier', 'melt_on_glacier',\n",
    "                   'liq_prcp_off_glacier', 'liq_prcp_on_glacier']\n",
    "    # Convert to mega tonnes instead of kg.\n",
    "    df_runoff = df_annual[runoff_vars].clip(0) * 1e-9\n",
    "    # Sum the variables each year \"axis=1\", take the 11 year rolling mean\n",
    "    # and plot it.\n",
    "    df_runoff.sum(axis=1).rolling(window=11).mean().plot(ax=ax, label=rcp,\n",
    "                               color=sns.color_palette(\"rocket\")[i],\n",
    "                               )\n",
    "ax.set_ylabel('Annual runoff (Mt)')\n",
    "ax.set_xlabel('Year')\n",
    "plt.title(rgi_id)\n",
    "plt.legend();\n"
   ]
  },
  {
   "cell_type": "markdown",
   "metadata": {},
   "source": [
    "For Hintereisferner, runoff continues to decrease throughout the 21st-century for all scenarios, indicating that **peak water** has already been reached sometime in the past. This is the case for many European glaciers. What about our unnamed glacier in the Himalayas?"
   ]
  },
  {
   "cell_type": "code",
   "execution_count": null,
   "metadata": {},
   "outputs": [],
   "source": [
    "# Create the figure\n",
    "f, ax = plt.subplots(figsize=(18, 7), sharex=True) \n",
    "# Loop over all scenarios\n",
    "for i, rcp in enumerate(['rcp26', 'rcp45', 'rcp60', 'rcp85']):\n",
    "    file_id = f'_CCSM4_{rcp}'\n",
    "    # Open the data, gdirs[1] correspond to the unnamed glacier.\n",
    "    with xr.open_dataset(gdirs[1].get_filepath('model_diagnostics',\n",
    "                                           filesuffix=file_id)) as ds:\n",
    "        # Load the data into a dataframe\n",
    "        ds = ds.isel(time=slice(0, -1)).load()\n",
    "\n",
    "    # Select annual variables\n",
    "    sel_vars = [v for v in ds.variables if 'month_2d' not in ds[v].dims]\n",
    "    # And create a dataframe\n",
    "    df_annual = ds[sel_vars].to_dataframe()\n",
    "\n",
    "    # Select the variables relevant for runoff.\n",
    "    runoff_vars = ['melt_off_glacier', 'melt_on_glacier',\n",
    "                   'liq_prcp_off_glacier', 'liq_prcp_on_glacier']\n",
    "    # Convert to mega tonnes instead of kg.\n",
    "    df_runoff = df_annual[runoff_vars].clip(0) * 1e-9\n",
    "    # Sum the variables each year \"axis=1\", take the 11 year rolling mean\n",
    "    # and plot it.\n",
    "    df_runoff.sum(axis=1).rolling(window=11).mean().plot(ax=ax, label=rcp,\n",
    "                               color=sns.color_palette(\"rocket\")[i],\n",
    "                               )\n",
    "ax.set_ylabel('Annual runoff (Mt)')\n",
    "ax.set_xlabel('Year')\n",
    "plt.title(rgi_id)\n",
    "plt.legend();"
   ]
  },
  {
   "cell_type": "markdown",
   "metadata": {},
   "source": [
    "Unlike for Hintereisferner, these projections indicate that the annual runoff will increase in all the scenarios for the first half of the century. The higher RCP scenarios can reach **peak water** later in the century, since the excess melt can continue to increase. For the lower RCP scenarios on the other hand, the glacier might be approaching a new equilibirum, which reduces the runoff earlier in the century ([Rounce et. al., 2020](https://www.frontiersin.org/articles/10.3389/feart.2019.00331/full)). After **peak water** is reached (RCP2.6: ~2055, RCP8.5: ~2070 in these projections), the annual runoff begin to decrease. This decrease occurs because the shrinking glacier is no longer able to support the high levels of melt."
   ]
  },
  {
   "cell_type": "markdown",
   "metadata": {},
   "source": [
    "## Another projection run with temperature bias?\n",
    "To inlcude something about how temperature bias affect the size of the glacier and the meltwater output."
   ]
  },
  {
   "cell_type": "markdown",
   "metadata": {},
   "source": [
    "# References\n",
    "List relevant references.\n",
    "\n",
    "1. Notebook sharing guidelines from reproducible-science-curriculum: https://reproducible-science-curriculum.github.io/publication-RR-Jupyter/\n",
    "2. Guide for developing shareable notebooks by Kevin Coakley, SDSC: https://github.com/kevincoakley/sharing-jupyter-notebooks/raw/master/Jupyter-Notebooks-Sharing-Recommendations.pdf\n",
    "3. Guide for sharing notebooks by Andrea Zonca, SDSC: https://zonca.dev/2020/09/how-to-share-jupyter-notebooks.html\n",
    "4. Jupyter Notebook Best Practices: https://towardsdatascience.com/jupyter-notebook-best-practices-f430a6ba8c69\n",
    "5. Introduction to Jupyter templates nbextension: https://towardsdatascience.com/stop-copy-pasting-notebooks-embrace-jupyter-templates-6bd7b6c00b94  \n",
    "    5.1. Table of Contents (Toc2) readthedocs: https://jupyter-contrib-nbextensions.readthedocs.io/en/latest/nbextensions/toc2/README.html  \n",
    "    5.2. Steps to install toc2: https://stackoverflow.com/questions/23435723/installing-ipython-notebook-table-of-contents\n",
    "6. Rule A, Birmingham A, Zuniga C, Altintas I, Huang SC, et al. (2019) Ten simple rules for writing and sharing computational analyses in Jupyter Notebooks. PLOS Computational Biology 15(7): e1007007. https://doi.org/10.1371/journal.pcbi.1007007. Supplementary materials: example notebooks (https://github.com/jupyter-guide/ten-rules-jupyter) and tutorial (https://github.com/ISMB-ECCB-2019-Tutorial-AM4/reproducible-computational-workflows)\n",
    "7. Languages supported by Jupyter kernels: https://github.com/jupyter/jupyter/wiki/Jupyter-kernels\n",
    "8. EarthCube notebooks presented at EC Annual Meeting 2020: https://www.earthcube.org/notebooks\n",
    "9. Manage your Python Virtual Environment with Conda: https://towardsdatascience.com/manage-your-python-virtual-environment-with-conda-a0d2934d5195\n",
    "10. Venv - Creation of Virtual Environments: https://docs.python.org/3/library/venv.html"
   ]
  }
 ],
 "metadata": {
  "kernelspec": {
   "display_name": "Python 3",
   "language": "python",
   "name": "python3"
  },
  "language_info": {
   "codemirror_mode": {
    "name": "ipython",
    "version": 3
   },
   "file_extension": ".py",
   "mimetype": "text/x-python",
   "name": "python",
   "nbconvert_exporter": "python",
   "pygments_lexer": "ipython3",
   "version": "3.6.10"
  },
  "toc": {
   "base_numbering": 1,
   "nav_menu": {},
   "number_sections": true,
   "sideBar": true,
   "skip_h1_title": false,
   "title_cell": "Table of Contents",
   "title_sidebar": "Contents",
   "toc_cell": true,
   "toc_position": {
    "height": "calc(100% - 180px)",
    "left": "10px",
    "top": "150px",
    "width": "248.182px"
   },
   "toc_section_display": true,
   "toc_window_display": true
  }
 },
 "nbformat": 4,
 "nbformat_minor": 4
}
